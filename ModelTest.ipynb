{
  "cells": [
    {
      "cell_type": "markdown",
      "metadata": {
        "id": "view-in-github",
        "colab_type": "text"
      },
      "source": [
        "<a href=\"https://colab.research.google.com/github/SultanEid/GP_M106_Drowning_Detection/blob/AbdullahMT/ModelTest.ipynb\" target=\"_parent\"><img src=\"https://colab.research.google.com/assets/colab-badge.svg\" alt=\"Open In Colab\"/></a>"
      ]
    },
    {
      "cell_type": "markdown",
      "source": [
        "# New Section"
      ],
      "metadata": {
        "id": "8AATc0CXQ0LQ"
      }
    },
    {
      "cell_type": "code",
      "source": [
        "pip install ultralytics==8.0.196 #install yolov8"
      ],
      "metadata": {
        "id": "FD-DI33SfOX5"
      },
      "execution_count": null,
      "outputs": []
    },
    {
      "cell_type": "code",
      "execution_count": null,
      "metadata": {
        "id": "VedJZtxhpNZP"
      },
      "outputs": [],
      "source": [
        "from ultralytics import YOLO\n",
        "model = YOLO(\"yolov8n.pt\")\n",
        "\n",
        "model.train(data=\"/content/DrownDetection-1/data.yaml\", epochs=10) #train roboflow dataset"
      ]
    },
    {
      "cell_type": "code",
      "source": [
        "import torch\n",
        "#torch.save(model, 'yolov8_robo.pth') #save the model on Pc"
      ],
      "metadata": {
        "id": "e883Yv07lrt5"
      },
      "execution_count": null,
      "outputs": []
    },
    {
      "cell_type": "code",
      "source": [
        "model = YOLO('yolov8n.pt') #loading the model\n",
        "model.load_state_dict(torch.load('/content/yolov8_robo.pth')) #matching the models"
      ],
      "metadata": {
        "id": "Byb4AneZrxL4"
      },
      "execution_count": null,
      "outputs": []
    },
    {
      "cell_type": "code",
      "source": [
        "model.predict('/content/images 1.jpg', classes = 0, save = True) #run on image"
      ],
      "metadata": {
        "id": "WUpA49cMn7fp"
      },
      "execution_count": null,
      "outputs": []
    },
    {
      "cell_type": "code",
      "source": [
        "model.predict('/content/Document.jpeg', classes = 0, save = True) #run on image"
      ],
      "metadata": {
        "id": "duNurucHphSi"
      },
      "execution_count": null,
      "outputs": []
    },
    {
      "cell_type": "code",
      "source": [
        "model.predict('/content/enjoying-a-swim-in-the.jpg', classes = 0, save = True) #run on image"
      ],
      "metadata": {
        "id": "MLuSzGVLpsE6"
      },
      "execution_count": null,
      "outputs": []
    },
    {
      "cell_type": "code",
      "source": [
        "source = '/content/videoplayback_Trim.mp4'\n",
        "model.predict(source, save=True)  #run on video"
      ],
      "metadata": {
        "id": "XiR6baimzs7P"
      },
      "execution_count": null,
      "outputs": []
    },
    {
      "cell_type": "code",
      "source": [
        "!pip install roboflow #import roboflow dataset\n",
        "\n",
        "from roboflow import Roboflow\n",
        "rf = Roboflow(api_key=\"79b5XWBPDdqhKEN4pnzX\")\n",
        "project = rf.workspace(\"drownproject\").project(\"drowndetection\") # my account workspace and project\n",
        "dataset = project.version(1).download(\"yolov8\")\n"
      ],
      "metadata": {
        "id": "8KeFTjg1dF6N"
      },
      "execution_count": null,
      "outputs": []
    }
  ],
  "metadata": {
    "colab": {
      "provenance": [],
      "gpuType": "T4",
      "include_colab_link": true
    },
    "kernelspec": {
      "display_name": "Python 3",
      "name": "python3"
    },
    "language_info": {
      "name": "python"
    },
    "accelerator": "GPU"
  },
  "nbformat": 4,
  "nbformat_minor": 0
}