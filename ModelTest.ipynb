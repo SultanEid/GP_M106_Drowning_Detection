{
  "cells": [
    {
      "cell_type": "markdown",
      "metadata": {
        "id": "view-in-github",
        "colab_type": "text"
      },
      "source": [
        "<a href=\"https://colab.research.google.com/github/SultanEid/GP_M106_Drowning_Detection/blob/AbdullahMT/ModelTest.ipynb\" target=\"_parent\"><img src=\"https://colab.research.google.com/assets/colab-badge.svg\" alt=\"Open In Colab\"/></a>"
      ]
    },
    {
      "cell_type": "code",
      "execution_count": null,
      "metadata": {
        "id": "EmvLabUnbu15"
      },
      "outputs": [],
      "source": [
        "pip install ultralytics #install model"
      ]
    },
    {
      "cell_type": "code",
      "execution_count": null,
      "metadata": {
        "id": "VedJZtxhpNZP"
      },
      "outputs": [],
      "source": [
        "from ultralytics import YOLO\n",
        "model = YOLO(\"yolov8n.pt\")\n",
        "\n",
        "#model.train(data=\"coco128.yaml\", epochs=50) #download coco dataset"
      ]
    },
    {
      "cell_type": "code",
      "source": [
        "import torch\n",
        "#torch.save(model, 'yolov8_coco_2.pth') #save the model on Pc"
      ],
      "metadata": {
        "id": "e883Yv07lrt5"
      },
      "execution_count": 4,
      "outputs": []
    },
    {
      "cell_type": "code",
      "source": [
        "model = YOLO('yolov8n.pt') #loading the model\n",
        "model.load_state_dict(torch.load('/content/yolov8_coco.pth')) #matching the models"
      ],
      "metadata": {
        "id": "Byb4AneZrxL4"
      },
      "execution_count": null,
      "outputs": []
    },
    {
      "cell_type": "code",
      "source": [
        "model.predict('/content/100-DSC_7242-800x480.png', classes = 0, save = True) #run on image"
      ],
      "metadata": {
        "id": "WUpA49cMn7fp"
      },
      "execution_count": null,
      "outputs": []
    },
    {
      "cell_type": "code",
      "source": [
        "model.predict('/content/Document.jpeg', classes = 0, save = True) #run on image"
      ],
      "metadata": {
        "id": "duNurucHphSi"
      },
      "execution_count": null,
      "outputs": []
    },
    {
      "cell_type": "code",
      "source": [
        "model.predict('/content/enjoying-a-swim-in-the.jpg', classes = 0, save = True) #run on image"
      ],
      "metadata": {
        "id": "MLuSzGVLpsE6"
      },
      "execution_count": null,
      "outputs": []
    },
    {
      "cell_type": "code",
      "source": [
        "source = '/content/videoplayback_Trim.mp4'\n",
        "model.predict(source, save=True)  #run on video"
      ],
      "metadata": {
        "id": "XiR6baimzs7P"
      },
      "execution_count": null,
      "outputs": []
    }
  ],
  "metadata": {
    "colab": {
      "provenance": [],
      "gpuType": "T4",
      "authorship_tag": "ABX9TyNZHtI6pi7vUhRyNVAeDfQt",
      "include_colab_link": true
    },
    "kernelspec": {
      "display_name": "Python 3",
      "name": "python3"
    },
    "language_info": {
      "name": "python"
    },
    "accelerator": "GPU"
  },
  "nbformat": 4,
  "nbformat_minor": 0
}